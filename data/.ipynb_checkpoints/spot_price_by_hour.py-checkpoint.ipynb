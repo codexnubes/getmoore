{
 "cells": [
  {
   "cell_type": "code",
   "execution_count": 7,
   "metadata": {
    "collapsed": false
   },
   "outputs": [],
   "source": [
    "# Import and unzip the cleaned data you made\n",
    "import tarfile\n",
    "fname = 'us-west-1-spot-clean-csv.tar.gz'\n",
    "tar = tarfile.open(fname, \"r:gz\")\n",
    "tar.extractall()\n",
    "tar.close()\n"
   ]
  },
  {
   "cell_type": "code",
   "execution_count": 8,
   "metadata": {
    "collapsed": false
   },
   "outputs": [],
   "source": [
    "import pandas as pd\n",
    "usw_spot = pd.read_csv('Users/ty/code/getmoore/data/us-west-1-spot-clean.csv')\n",
    "c48_full  = usw_spot[ usw_spot['InstanceType'] == 'c4.8xlarge' ]\n",
    "c48_pricing = c48_full[['Price', 'Timestamp']].copy()\n"
   ]
  },
  {
   "cell_type": "code",
   "execution_count": 9,
   "metadata": {
    "collapsed": false
   },
   "outputs": [],
   "source": [
    "c48_full  = usw_spot[ usw_spot['InstanceType'] == 'c4.8xlarge' ]"
   ]
  },
  {
   "cell_type": "code",
   "execution_count": 10,
   "metadata": {
    "collapsed": false
   },
   "outputs": [
    {
     "name": "stdout",
     "output_type": "stream",
     "text": [
      "133    2016-09-21T00:48:48.000Z\n",
      "134    2016-09-21T00:48:48.000Z\n",
      "135    2016-09-21T00:48:48.000Z\n",
      "162    2016-09-21T00:48:20.000Z\n",
      "163    2016-09-21T00:48:19.000Z\n",
      "Name: Timestamp, dtype: object\n"
     ]
    }
   ],
   "source": [
    "c48_pricing = c48_full[['Price', 'Timestamp']].copy()\n",
    "\n",
    "print c48_pricing['Timestamp'].head()\n"
   ]
  },
  {
   "cell_type": "code",
   "execution_count": 11,
   "metadata": {
    "collapsed": false
   },
   "outputs": [],
   "source": [
    "import datetime as datetime\n",
    "def to_hour(d):\n",
    "    d = d[:-5].replace('T', ' ')\n",
    "    d = datetime.datetime.strptime(d, '%Y-%m-%d %H:%M:%S')\n",
    "    return d.hour"
   ]
  },
  {
   "cell_type": "code",
   "execution_count": 12,
   "metadata": {
    "collapsed": false
   },
   "outputs": [],
   "source": [
    "c48_pricing['Price'] = c48_pricing['Price'].astype(float)\n",
    "c48_pricing['Timestamp'] = c48_pricing['Timestamp'].apply(to_hour)"
   ]
  },
  {
   "cell_type": "code",
   "execution_count": 13,
   "metadata": {
    "collapsed": false
   },
   "outputs": [
    {
     "name": "stdout",
     "output_type": "stream",
     "text": [
      "      Price  Timestamp\n",
      "133  0.4870          0\n",
      "134  0.3870          0\n",
      "135  1.5873          0\n",
      "162  1.5872          0\n",
      "163  0.4859          0\n",
      "Price        float64\n",
      "Timestamp      int64\n",
      "dtype: object\n"
     ]
    }
   ],
   "source": [
    "print c48_pricing.head()\n",
    "print c48_pricing.dtypes"
   ]
  },
  {
   "cell_type": "code",
   "execution_count": null,
   "metadata": {
    "collapsed": false
   },
   "outputs": [
    {
     "name": "stderr",
     "output_type": "stream",
     "text": [
      "/usr/local/lib/python2.7/site-packages/matplotlib/collections.py:548: FutureWarning: elementwise comparison failed; returning scalar instead, but in the future will perform elementwise comparison\n",
      "  if self._edgecolors == 'face':\n"
     ]
    }
   ],
   "source": [
    "import seaborn as sns\n",
    "sns.set()\n",
    "sns.heatmap(c48_pricing.head())\n",
    "sns.plt.show()"
   ]
  },
  {
   "cell_type": "code",
   "execution_count": null,
   "metadata": {
    "collapsed": true
   },
   "outputs": [],
   "source": []
  }
 ],
 "metadata": {
  "kernelspec": {
   "display_name": "Python 2",
   "language": "python",
   "name": "python2"
  },
  "language_info": {
   "codemirror_mode": {
    "name": "ipython",
    "version": 2
   },
   "file_extension": ".py",
   "mimetype": "text/x-python",
   "name": "python",
   "nbconvert_exporter": "python",
   "pygments_lexer": "ipython2",
   "version": "2.7.12"
  }
 },
 "nbformat": 4,
 "nbformat_minor": 0
}
