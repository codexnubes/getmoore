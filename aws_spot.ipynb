{
 "cells": [
  {
   "cell_type": "code",
   "execution_count": 1,
   "metadata": {
    "collapsed": true
   },
   "outputs": [],
   "source": [
    "import json"
   ]
  },
  {
   "cell_type": "code",
   "execution_count": 3,
   "metadata": {
    "collapsed": false
   },
   "outputs": [],
   "source": [
    "import graphlab as gl"
   ]
  },
  {
   "cell_type": "code",
   "execution_count": 6,
   "metadata": {
    "collapsed": true
   },
   "outputs": [],
   "source": [
    "import requests"
   ]
  },
  {
   "cell_type": "code",
   "execution_count": 7,
   "metadata": {
    "collapsed": false
   },
   "outputs": [],
   "source": [
    "from requests_file import FileAdapter\n",
    "\n",
    "s = requests.Session()\n",
    "s.mount('file://', FileAdapter())\n",
    "\n",
    "resp = s.get('file:///users/ty/code/getmoore/data/us-west-1-spot.json')"
   ]
  },
  {
   "cell_type": "code",
   "execution_count": 9,
   "metadata": {
    "collapsed": false
   },
   "outputs": [],
   "source": [
    "pricing_history = resp.json()"
   ]
  },
  {
   "cell_type": "code",
   "execution_count": 20,
   "metadata": {
    "collapsed": false
   },
   "outputs": [],
   "source": [
    "pricing_history = pricing_history['SpotPriceHistory']"
   ]
  },
  {
   "cell_type": "code",
   "execution_count": 24,
   "metadata": {
    "collapsed": false
   },
   "outputs": [
    {
     "data": {
      "text/plain": [
       "{u'AvailabilityZone': u'us-west-1a',\n",
       " u'InstanceType': u'c4.large',\n",
       " u'ProductDescription': u'SUSE Linux',\n",
       " u'SpotPrice': u'0.120100',\n",
       " u'Timestamp': u'2016-09-21T00:50:37.000Z'}"
      ]
     },
     "execution_count": 24,
     "metadata": {},
     "output_type": "execute_result"
    }
   ],
   "source": [
    "pricing_history[0]"
   ]
  },
  {
   "cell_type": "code",
   "execution_count": 28,
   "metadata": {
    "collapsed": false
   },
   "outputs": [],
   "source": [
    "sf = gl.SFrame(data=pricing_history)"
   ]
  },
  {
   "cell_type": "code",
   "execution_count": 30,
   "metadata": {
    "collapsed": false
   },
   "outputs": [
    {
     "data": {
      "text/html": [
       "<div style=\"max-height:1000px;max-width:1500px;overflow:auto;\"><table frame=\"box\" rules=\"cols\">\n",
       "    <tr>\n",
       "        <th style=\"padding-left: 1em; padding-right: 1em; text-align: center\">X1</th>\n",
       "    </tr>\n",
       "    <tr>\n",
       "        <td style=\"padding-left: 1em; padding-right: 1em; text-align: center; vertical-align: top\">{'Timestamp': '2016-09-21<br>T00:50:37.000Z', ...</td>\n",
       "    </tr>\n",
       "    <tr>\n",
       "        <td style=\"padding-left: 1em; padding-right: 1em; text-align: center; vertical-align: top\">{'Timestamp': '2016-09-21<br>T00:50:37.000Z', ...</td>\n",
       "    </tr>\n",
       "    <tr>\n",
       "        <td style=\"padding-left: 1em; padding-right: 1em; text-align: center; vertical-align: top\">{'Timestamp': '2016-09-21<br>T00:50:36.000Z', ...</td>\n",
       "    </tr>\n",
       "    <tr>\n",
       "        <td style=\"padding-left: 1em; padding-right: 1em; text-align: center; vertical-align: top\">{'Timestamp': '2016-09-21<br>T00:50:36.000Z', ...</td>\n",
       "    </tr>\n",
       "    <tr>\n",
       "        <td style=\"padding-left: 1em; padding-right: 1em; text-align: center; vertical-align: top\">{'Timestamp': '2016-09-21<br>T00:50:36.000Z', ...</td>\n",
       "    </tr>\n",
       "    <tr>\n",
       "        <td style=\"padding-left: 1em; padding-right: 1em; text-align: center; vertical-align: top\">{'Timestamp': '2016-09-21<br>T00:50:35.000Z', ...</td>\n",
       "    </tr>\n",
       "    <tr>\n",
       "        <td style=\"padding-left: 1em; padding-right: 1em; text-align: center; vertical-align: top\">{'Timestamp': '2016-09-21<br>T00:50:35.000Z', ...</td>\n",
       "    </tr>\n",
       "    <tr>\n",
       "        <td style=\"padding-left: 1em; padding-right: 1em; text-align: center; vertical-align: top\">{'Timestamp': '2016-09-21<br>T00:50:35.000Z', ...</td>\n",
       "    </tr>\n",
       "    <tr>\n",
       "        <td style=\"padding-left: 1em; padding-right: 1em; text-align: center; vertical-align: top\">{'Timestamp': '2016-09-21<br>T00:50:32.000Z', ...</td>\n",
       "    </tr>\n",
       "    <tr>\n",
       "        <td style=\"padding-left: 1em; padding-right: 1em; text-align: center; vertical-align: top\">{'Timestamp': '2016-09-21<br>T00:50:32.000Z', ...</td>\n",
       "    </tr>\n",
       "</table>\n",
       "[10 rows x 1 columns]<br/>\n",
       "</div>"
      ],
      "text/plain": [
       "Columns:\n",
       "\tX1\tdict\n",
       "\n",
       "Rows: 10\n",
       "\n",
       "Data:\n",
       "+-------------------------------+\n",
       "|               X1              |\n",
       "+-------------------------------+\n",
       "| {'Timestamp': '2016-09-21T... |\n",
       "| {'Timestamp': '2016-09-21T... |\n",
       "| {'Timestamp': '2016-09-21T... |\n",
       "| {'Timestamp': '2016-09-21T... |\n",
       "| {'Timestamp': '2016-09-21T... |\n",
       "| {'Timestamp': '2016-09-21T... |\n",
       "| {'Timestamp': '2016-09-21T... |\n",
       "| {'Timestamp': '2016-09-21T... |\n",
       "| {'Timestamp': '2016-09-21T... |\n",
       "| {'Timestamp': '2016-09-21T... |\n",
       "+-------------------------------+\n",
       "[10 rows x 1 columns]"
      ]
     },
     "execution_count": 30,
     "metadata": {},
     "output_type": "execute_result"
    }
   ],
   "source": [
    "sf.head()"
   ]
  },
  {
   "cell_type": "code",
   "execution_count": 35,
   "metadata": {
    "collapsed": false
   },
   "outputs": [],
   "source": [
    "counts = {'Timestamp': 0, 'InstanceType': 0, 'ProductDescription': 0, 'SpotPrice': 0, 'Timestamp': 0}\n",
    "for spot in pricing_history:\n",
    "    keys = spot.keys()\n",
    "    for key in keys:\n",
    "        if key not in counts.keys():\n",
    "            counts[key] = 0\n",
    "        else:\n",
    "            counts[key] += 1"
   ]
  },
  {
   "cell_type": "code",
   "execution_count": 36,
   "metadata": {
    "collapsed": false
   },
   "outputs": [
    {
     "data": {
      "text/plain": [
       "{u'AvailabilityZone': 2369078,\n",
       " 'InstanceType': 2369079,\n",
       " 'ProductDescription': 2369079,\n",
       " 'SpotPrice': 2369079,\n",
       " 'Timestamp': 2369079}"
      ]
     },
     "execution_count": 36,
     "metadata": {},
     "output_type": "execute_result"
    }
   ],
   "source": [
    "counts"
   ]
  },
  {
   "cell_type": "code",
   "execution_count": 38,
   "metadata": {
    "collapsed": true
   },
   "outputs": [],
   "source": [
    "# All but one of the rows has the 'AvailabilityZone' key"
   ]
  },
  {
   "cell_type": "code",
   "execution_count": 41,
   "metadata": {
    "collapsed": false
   },
   "outputs": [],
   "source": [
    "timestamp, instance_type, product_description, spot_price, availability_zone = [], [], [], [], []"
   ]
  },
  {
   "cell_type": "code",
   "execution_count": 42,
   "metadata": {
    "collapsed": true
   },
   "outputs": [],
   "source": [
    "for spot in pricing_history:\n",
    "    keys = spot.keys()\n",
    "    if 'AvailabilityZone' not in keys:\n",
    "        availability_zone.append(None)\n",
    "    else:\n",
    "        timestamp.append(spot['Timestamp'])\n",
    "        instance_type.append(spot['InstanceType'])\n",
    "        product_description.append(spot['ProductDescription'])\n",
    "        spot_price.append(spot['SpotPrice'])\n",
    "        availability_zone.append(spot['AvailabilityZone'])"
   ]
  },
  {
   "cell_type": "code",
   "execution_count": 43,
   "metadata": {
    "collapsed": false
   },
   "outputs": [
    {
     "data": {
      "text/plain": [
       "2369079"
      ]
     },
     "execution_count": 43,
     "metadata": {},
     "output_type": "execute_result"
    }
   ],
   "source": [
    "len(timestamp)"
   ]
  },
  {
   "cell_type": "code",
   "execution_count": 44,
   "metadata": {
    "collapsed": false
   },
   "outputs": [
    {
     "data": {
      "text/plain": [
       "2369079"
      ]
     },
     "execution_count": 44,
     "metadata": {},
     "output_type": "execute_result"
    }
   ],
   "source": [
    "len(instance_type)"
   ]
  },
  {
   "cell_type": "code",
   "execution_count": 45,
   "metadata": {
    "collapsed": false
   },
   "outputs": [
    {
     "data": {
      "text/plain": [
       "2369079"
      ]
     },
     "execution_count": 45,
     "metadata": {},
     "output_type": "execute_result"
    }
   ],
   "source": [
    "len(product_description)"
   ]
  },
  {
   "cell_type": "code",
   "execution_count": 46,
   "metadata": {
    "collapsed": false
   },
   "outputs": [
    {
     "data": {
      "text/plain": [
       "2369079"
      ]
     },
     "execution_count": 46,
     "metadata": {},
     "output_type": "execute_result"
    }
   ],
   "source": [
    "len(spot_price)"
   ]
  },
  {
   "cell_type": "code",
   "execution_count": 47,
   "metadata": {
    "collapsed": false
   },
   "outputs": [
    {
     "data": {
      "text/plain": [
       "2369079"
      ]
     },
     "execution_count": 47,
     "metadata": {},
     "output_type": "execute_result"
    }
   ],
   "source": [
    "len(availability_zone)"
   ]
  },
  {
   "cell_type": "code",
   "execution_count": 48,
   "metadata": {
    "collapsed": true
   },
   "outputs": [],
   "source": [
    "# Load the SFrame. Note, changing SpotPrice to Price as this dataset only contains spot prices\n",
    "sf = gl.SFrame({'Timestamp': timestamp, 'InstanceType': instance_type, \n",
    "                'ProductDescription': product_description, 'Price': spot_price, \n",
    "                'AvailabilityZone': availability_zone})"
   ]
  },
  {
   "cell_type": "code",
   "execution_count": 49,
   "metadata": {
    "collapsed": false
   },
   "outputs": [
    {
     "data": {
      "text/html": [
       "<div style=\"max-height:1000px;max-width:1500px;overflow:auto;\"><table frame=\"box\" rules=\"cols\">\n",
       "    <tr>\n",
       "        <th style=\"padding-left: 1em; padding-right: 1em; text-align: center\">AvailabilityZone</th>\n",
       "        <th style=\"padding-left: 1em; padding-right: 1em; text-align: center\">InstanceType</th>\n",
       "        <th style=\"padding-left: 1em; padding-right: 1em; text-align: center\">Price</th>\n",
       "        <th style=\"padding-left: 1em; padding-right: 1em; text-align: center\">ProductDescription</th>\n",
       "        <th style=\"padding-left: 1em; padding-right: 1em; text-align: center\">Timestamp</th>\n",
       "    </tr>\n",
       "    <tr>\n",
       "        <td style=\"padding-left: 1em; padding-right: 1em; text-align: center; vertical-align: top\">us-west-1a</td>\n",
       "        <td style=\"padding-left: 1em; padding-right: 1em; text-align: center; vertical-align: top\">c4.large</td>\n",
       "        <td style=\"padding-left: 1em; padding-right: 1em; text-align: center; vertical-align: top\">0.120100</td>\n",
       "        <td style=\"padding-left: 1em; padding-right: 1em; text-align: center; vertical-align: top\">SUSE Linux</td>\n",
       "        <td style=\"padding-left: 1em; padding-right: 1em; text-align: center; vertical-align: top\">2016-09-21T00:50:37.000Z</td>\n",
       "    </tr>\n",
       "    <tr>\n",
       "        <td style=\"padding-left: 1em; padding-right: 1em; text-align: center; vertical-align: top\">us-west-1a</td>\n",
       "        <td style=\"padding-left: 1em; padding-right: 1em; text-align: center; vertical-align: top\">c4.large</td>\n",
       "        <td style=\"padding-left: 1em; padding-right: 1em; text-align: center; vertical-align: top\">0.020100</td>\n",
       "        <td style=\"padding-left: 1em; padding-right: 1em; text-align: center; vertical-align: top\">Linux/UNIX</td>\n",
       "        <td style=\"padding-left: 1em; padding-right: 1em; text-align: center; vertical-align: top\">2016-09-21T00:50:37.000Z</td>\n",
       "    </tr>\n",
       "    <tr>\n",
       "        <td style=\"padding-left: 1em; padding-right: 1em; text-align: center; vertical-align: top\">us-west-1b</td>\n",
       "        <td style=\"padding-left: 1em; padding-right: 1em; text-align: center; vertical-align: top\">m2.4xlarge</td>\n",
       "        <td style=\"padding-left: 1em; padding-right: 1em; text-align: center; vertical-align: top\">0.213300</td>\n",
       "        <td style=\"padding-left: 1em; padding-right: 1em; text-align: center; vertical-align: top\">SUSE Linux</td>\n",
       "        <td style=\"padding-left: 1em; padding-right: 1em; text-align: center; vertical-align: top\">2016-09-21T00:50:36.000Z</td>\n",
       "    </tr>\n",
       "    <tr>\n",
       "        <td style=\"padding-left: 1em; padding-right: 1em; text-align: center; vertical-align: top\">us-west-1b</td>\n",
       "        <td style=\"padding-left: 1em; padding-right: 1em; text-align: center; vertical-align: top\">m2.4xlarge</td>\n",
       "        <td style=\"padding-left: 1em; padding-right: 1em; text-align: center; vertical-align: top\">0.113300</td>\n",
       "        <td style=\"padding-left: 1em; padding-right: 1em; text-align: center; vertical-align: top\">Linux/UNIX</td>\n",
       "        <td style=\"padding-left: 1em; padding-right: 1em; text-align: center; vertical-align: top\">2016-09-21T00:50:36.000Z</td>\n",
       "    </tr>\n",
       "    <tr>\n",
       "        <td style=\"padding-left: 1em; padding-right: 1em; text-align: center; vertical-align: top\">us-west-1b</td>\n",
       "        <td style=\"padding-left: 1em; padding-right: 1em; text-align: center; vertical-align: top\">c4.large</td>\n",
       "        <td style=\"padding-left: 1em; padding-right: 1em; text-align: center; vertical-align: top\">0.100300</td>\n",
       "        <td style=\"padding-left: 1em; padding-right: 1em; text-align: center; vertical-align: top\">Windows</td>\n",
       "        <td style=\"padding-left: 1em; padding-right: 1em; text-align: center; vertical-align: top\">2016-09-21T00:50:36.000Z</td>\n",
       "    </tr>\n",
       "    <tr>\n",
       "        <td style=\"padding-left: 1em; padding-right: 1em; text-align: center; vertical-align: top\">us-west-1b</td>\n",
       "        <td style=\"padding-left: 1em; padding-right: 1em; text-align: center; vertical-align: top\">c3.2xlarge</td>\n",
       "        <td style=\"padding-left: 1em; padding-right: 1em; text-align: center; vertical-align: top\">0.265600</td>\n",
       "        <td style=\"padding-left: 1em; padding-right: 1em; text-align: center; vertical-align: top\">Windows</td>\n",
       "        <td style=\"padding-left: 1em; padding-right: 1em; text-align: center; vertical-align: top\">2016-09-21T00:50:35.000Z</td>\n",
       "    </tr>\n",
       "    <tr>\n",
       "        <td style=\"padding-left: 1em; padding-right: 1em; text-align: center; vertical-align: top\">us-west-1b</td>\n",
       "        <td style=\"padding-left: 1em; padding-right: 1em; text-align: center; vertical-align: top\">c3.2xlarge</td>\n",
       "        <td style=\"padding-left: 1em; padding-right: 1em; text-align: center; vertical-align: top\">0.254200</td>\n",
       "        <td style=\"padding-left: 1em; padding-right: 1em; text-align: center; vertical-align: top\">SUSE Linux</td>\n",
       "        <td style=\"padding-left: 1em; padding-right: 1em; text-align: center; vertical-align: top\">2016-09-21T00:50:35.000Z</td>\n",
       "    </tr>\n",
       "    <tr>\n",
       "        <td style=\"padding-left: 1em; padding-right: 1em; text-align: center; vertical-align: top\">us-west-1b</td>\n",
       "        <td style=\"padding-left: 1em; padding-right: 1em; text-align: center; vertical-align: top\">c3.2xlarge</td>\n",
       "        <td style=\"padding-left: 1em; padding-right: 1em; text-align: center; vertical-align: top\">0.154200</td>\n",
       "        <td style=\"padding-left: 1em; padding-right: 1em; text-align: center; vertical-align: top\">Linux/UNIX</td>\n",
       "        <td style=\"padding-left: 1em; padding-right: 1em; text-align: center; vertical-align: top\">2016-09-21T00:50:35.000Z</td>\n",
       "    </tr>\n",
       "    <tr>\n",
       "        <td style=\"padding-left: 1em; padding-right: 1em; text-align: center; vertical-align: top\">us-west-1b</td>\n",
       "        <td style=\"padding-left: 1em; padding-right: 1em; text-align: center; vertical-align: top\">r3.2xlarge</td>\n",
       "        <td style=\"padding-left: 1em; padding-right: 1em; text-align: center; vertical-align: top\">0.850000</td>\n",
       "        <td style=\"padding-left: 1em; padding-right: 1em; text-align: center; vertical-align: top\">SUSE Linux</td>\n",
       "        <td style=\"padding-left: 1em; padding-right: 1em; text-align: center; vertical-align: top\">2016-09-21T00:50:32.000Z</td>\n",
       "    </tr>\n",
       "    <tr>\n",
       "        <td style=\"padding-left: 1em; padding-right: 1em; text-align: center; vertical-align: top\">us-west-1b</td>\n",
       "        <td style=\"padding-left: 1em; padding-right: 1em; text-align: center; vertical-align: top\">r3.2xlarge</td>\n",
       "        <td style=\"padding-left: 1em; padding-right: 1em; text-align: center; vertical-align: top\">0.750000</td>\n",
       "        <td style=\"padding-left: 1em; padding-right: 1em; text-align: center; vertical-align: top\">Linux/UNIX</td>\n",
       "        <td style=\"padding-left: 1em; padding-right: 1em; text-align: center; vertical-align: top\">2016-09-21T00:50:32.000Z</td>\n",
       "    </tr>\n",
       "</table>\n",
       "[10 rows x 5 columns]<br/>\n",
       "</div>"
      ],
      "text/plain": [
       "Columns:\n",
       "\tAvailabilityZone\tstr\n",
       "\tInstanceType\tstr\n",
       "\tPrice\tstr\n",
       "\tProductDescription\tstr\n",
       "\tTimestamp\tstr\n",
       "\n",
       "Rows: 10\n",
       "\n",
       "Data:\n",
       "+------------------+--------------+----------+--------------------+\n",
       "| AvailabilityZone | InstanceType |  Price   | ProductDescription |\n",
       "+------------------+--------------+----------+--------------------+\n",
       "|    us-west-1a    |   c4.large   | 0.120100 |     SUSE Linux     |\n",
       "|    us-west-1a    |   c4.large   | 0.020100 |     Linux/UNIX     |\n",
       "|    us-west-1b    |  m2.4xlarge  | 0.213300 |     SUSE Linux     |\n",
       "|    us-west-1b    |  m2.4xlarge  | 0.113300 |     Linux/UNIX     |\n",
       "|    us-west-1b    |   c4.large   | 0.100300 |      Windows       |\n",
       "|    us-west-1b    |  c3.2xlarge  | 0.265600 |      Windows       |\n",
       "|    us-west-1b    |  c3.2xlarge  | 0.254200 |     SUSE Linux     |\n",
       "|    us-west-1b    |  c3.2xlarge  | 0.154200 |     Linux/UNIX     |\n",
       "|    us-west-1b    |  r3.2xlarge  | 0.850000 |     SUSE Linux     |\n",
       "|    us-west-1b    |  r3.2xlarge  | 0.750000 |     Linux/UNIX     |\n",
       "+------------------+--------------+----------+--------------------+\n",
       "+--------------------------+\n",
       "|        Timestamp         |\n",
       "+--------------------------+\n",
       "| 2016-09-21T00:50:37.000Z |\n",
       "| 2016-09-21T00:50:37.000Z |\n",
       "| 2016-09-21T00:50:36.000Z |\n",
       "| 2016-09-21T00:50:36.000Z |\n",
       "| 2016-09-21T00:50:36.000Z |\n",
       "| 2016-09-21T00:50:35.000Z |\n",
       "| 2016-09-21T00:50:35.000Z |\n",
       "| 2016-09-21T00:50:35.000Z |\n",
       "| 2016-09-21T00:50:32.000Z |\n",
       "| 2016-09-21T00:50:32.000Z |\n",
       "+--------------------------+\n",
       "[10 rows x 5 columns]"
      ]
     },
     "execution_count": 49,
     "metadata": {},
     "output_type": "execute_result"
    }
   ],
   "source": [
    "sf.head()"
   ]
  },
  {
   "cell_type": "code",
   "execution_count": 50,
   "metadata": {
    "collapsed": true
   },
   "outputs": [],
   "source": [
    "gl.canvas.set_target('browser')"
   ]
  },
  {
   "cell_type": "code",
   "execution_count": 52,
   "metadata": {
    "collapsed": false
   },
   "outputs": [
    {
     "name": "stdout",
     "output_type": "stream",
     "text": [
      "Canvas is accessible via web browser at the URL: http://localhost:52382/index.html\n",
      "Opening Canvas in default web browser.\n"
     ]
    }
   ],
   "source": [
    "sf.show()"
   ]
  },
  {
   "cell_type": "code",
   "execution_count": 53,
   "metadata": {
    "collapsed": true
   },
   "outputs": [],
   "source": [
    "# See if c4.8xlarge was ever available for under $0.10 / hr\n",
    "c48xlarge = sf[sf['InstanceType'] == 'c4.8xlarge']"
   ]
  },
  {
   "cell_type": "code",
   "execution_count": 54,
   "metadata": {
    "collapsed": false
   },
   "outputs": [
    {
     "data": {
      "text/html": [
       "<div style=\"max-height:1000px;max-width:1500px;overflow:auto;\"><table frame=\"box\" rules=\"cols\">\n",
       "    <tr>\n",
       "        <th style=\"padding-left: 1em; padding-right: 1em; text-align: center\">AvailabilityZone</th>\n",
       "        <th style=\"padding-left: 1em; padding-right: 1em; text-align: center\">InstanceType</th>\n",
       "        <th style=\"padding-left: 1em; padding-right: 1em; text-align: center\">Price</th>\n",
       "        <th style=\"padding-left: 1em; padding-right: 1em; text-align: center\">ProductDescription</th>\n",
       "        <th style=\"padding-left: 1em; padding-right: 1em; text-align: center\">Timestamp</th>\n",
       "    </tr>\n",
       "    <tr>\n",
       "        <td style=\"padding-left: 1em; padding-right: 1em; text-align: center; vertical-align: top\">us-west-1b</td>\n",
       "        <td style=\"padding-left: 1em; padding-right: 1em; text-align: center; vertical-align: top\">c4.8xlarge</td>\n",
       "        <td style=\"padding-left: 1em; padding-right: 1em; text-align: center; vertical-align: top\">0.487000</td>\n",
       "        <td style=\"padding-left: 1em; padding-right: 1em; text-align: center; vertical-align: top\">SUSE Linux</td>\n",
       "        <td style=\"padding-left: 1em; padding-right: 1em; text-align: center; vertical-align: top\">2016-09-21T00:48:48.000Z</td>\n",
       "    </tr>\n",
       "    <tr>\n",
       "        <td style=\"padding-left: 1em; padding-right: 1em; text-align: center; vertical-align: top\">us-west-1b</td>\n",
       "        <td style=\"padding-left: 1em; padding-right: 1em; text-align: center; vertical-align: top\">c4.8xlarge</td>\n",
       "        <td style=\"padding-left: 1em; padding-right: 1em; text-align: center; vertical-align: top\">0.387000</td>\n",
       "        <td style=\"padding-left: 1em; padding-right: 1em; text-align: center; vertical-align: top\">Linux/UNIX</td>\n",
       "        <td style=\"padding-left: 1em; padding-right: 1em; text-align: center; vertical-align: top\">2016-09-21T00:48:48.000Z</td>\n",
       "    </tr>\n",
       "    <tr>\n",
       "        <td style=\"padding-left: 1em; padding-right: 1em; text-align: center; vertical-align: top\">us-west-1b</td>\n",
       "        <td style=\"padding-left: 1em; padding-right: 1em; text-align: center; vertical-align: top\">c4.8xlarge</td>\n",
       "        <td style=\"padding-left: 1em; padding-right: 1em; text-align: center; vertical-align: top\">1.587300</td>\n",
       "        <td style=\"padding-left: 1em; padding-right: 1em; text-align: center; vertical-align: top\">Windows</td>\n",
       "        <td style=\"padding-left: 1em; padding-right: 1em; text-align: center; vertical-align: top\">2016-09-21T00:48:48.000Z</td>\n",
       "    </tr>\n",
       "    <tr>\n",
       "        <td style=\"padding-left: 1em; padding-right: 1em; text-align: center; vertical-align: top\">us-west-1b</td>\n",
       "        <td style=\"padding-left: 1em; padding-right: 1em; text-align: center; vertical-align: top\">c4.8xlarge</td>\n",
       "        <td style=\"padding-left: 1em; padding-right: 1em; text-align: center; vertical-align: top\">1.587200</td>\n",
       "        <td style=\"padding-left: 1em; padding-right: 1em; text-align: center; vertical-align: top\">Windows</td>\n",
       "        <td style=\"padding-left: 1em; padding-right: 1em; text-align: center; vertical-align: top\">2016-09-21T00:48:20.000Z</td>\n",
       "    </tr>\n",
       "    <tr>\n",
       "        <td style=\"padding-left: 1em; padding-right: 1em; text-align: center; vertical-align: top\">us-west-1b</td>\n",
       "        <td style=\"padding-left: 1em; padding-right: 1em; text-align: center; vertical-align: top\">c4.8xlarge</td>\n",
       "        <td style=\"padding-left: 1em; padding-right: 1em; text-align: center; vertical-align: top\">0.485900</td>\n",
       "        <td style=\"padding-left: 1em; padding-right: 1em; text-align: center; vertical-align: top\">SUSE Linux</td>\n",
       "        <td style=\"padding-left: 1em; padding-right: 1em; text-align: center; vertical-align: top\">2016-09-21T00:48:19.000Z</td>\n",
       "    </tr>\n",
       "    <tr>\n",
       "        <td style=\"padding-left: 1em; padding-right: 1em; text-align: center; vertical-align: top\">us-west-1b</td>\n",
       "        <td style=\"padding-left: 1em; padding-right: 1em; text-align: center; vertical-align: top\">c4.8xlarge</td>\n",
       "        <td style=\"padding-left: 1em; padding-right: 1em; text-align: center; vertical-align: top\">0.385900</td>\n",
       "        <td style=\"padding-left: 1em; padding-right: 1em; text-align: center; vertical-align: top\">Linux/UNIX</td>\n",
       "        <td style=\"padding-left: 1em; padding-right: 1em; text-align: center; vertical-align: top\">2016-09-21T00:48:19.000Z</td>\n",
       "    </tr>\n",
       "    <tr>\n",
       "        <td style=\"padding-left: 1em; padding-right: 1em; text-align: center; vertical-align: top\">us-west-1a</td>\n",
       "        <td style=\"padding-left: 1em; padding-right: 1em; text-align: center; vertical-align: top\">c4.8xlarge</td>\n",
       "        <td style=\"padding-left: 1em; padding-right: 1em; text-align: center; vertical-align: top\">1.648100</td>\n",
       "        <td style=\"padding-left: 1em; padding-right: 1em; text-align: center; vertical-align: top\">Windows</td>\n",
       "        <td style=\"padding-left: 1em; padding-right: 1em; text-align: center; vertical-align: top\">2016-09-21T00:47:25.000Z</td>\n",
       "    </tr>\n",
       "    <tr>\n",
       "        <td style=\"padding-left: 1em; padding-right: 1em; text-align: center; vertical-align: top\">us-west-1b</td>\n",
       "        <td style=\"padding-left: 1em; padding-right: 1em; text-align: center; vertical-align: top\">c4.8xlarge</td>\n",
       "        <td style=\"padding-left: 1em; padding-right: 1em; text-align: center; vertical-align: top\">1.587300</td>\n",
       "        <td style=\"padding-left: 1em; padding-right: 1em; text-align: center; vertical-align: top\">Windows</td>\n",
       "        <td style=\"padding-left: 1em; padding-right: 1em; text-align: center; vertical-align: top\">2016-09-21T00:47:25.000Z</td>\n",
       "    </tr>\n",
       "    <tr>\n",
       "        <td style=\"padding-left: 1em; padding-right: 1em; text-align: center; vertical-align: top\">us-west-1a</td>\n",
       "        <td style=\"padding-left: 1em; padding-right: 1em; text-align: center; vertical-align: top\">c4.8xlarge</td>\n",
       "        <td style=\"padding-left: 1em; padding-right: 1em; text-align: center; vertical-align: top\">0.538400</td>\n",
       "        <td style=\"padding-left: 1em; padding-right: 1em; text-align: center; vertical-align: top\">SUSE Linux</td>\n",
       "        <td style=\"padding-left: 1em; padding-right: 1em; text-align: center; vertical-align: top\">2016-09-21T00:47:25.000Z</td>\n",
       "    </tr>\n",
       "    <tr>\n",
       "        <td style=\"padding-left: 1em; padding-right: 1em; text-align: center; vertical-align: top\">us-west-1b</td>\n",
       "        <td style=\"padding-left: 1em; padding-right: 1em; text-align: center; vertical-align: top\">c4.8xlarge</td>\n",
       "        <td style=\"padding-left: 1em; padding-right: 1em; text-align: center; vertical-align: top\">0.487000</td>\n",
       "        <td style=\"padding-left: 1em; padding-right: 1em; text-align: center; vertical-align: top\">SUSE Linux</td>\n",
       "        <td style=\"padding-left: 1em; padding-right: 1em; text-align: center; vertical-align: top\">2016-09-21T00:47:25.000Z</td>\n",
       "    </tr>\n",
       "</table>\n",
       "[10 rows x 5 columns]<br/>\n",
       "</div>"
      ],
      "text/plain": [
       "Columns:\n",
       "\tAvailabilityZone\tstr\n",
       "\tInstanceType\tstr\n",
       "\tPrice\tstr\n",
       "\tProductDescription\tstr\n",
       "\tTimestamp\tstr\n",
       "\n",
       "Rows: 10\n",
       "\n",
       "Data:\n",
       "+------------------+--------------+----------+--------------------+\n",
       "| AvailabilityZone | InstanceType |  Price   | ProductDescription |\n",
       "+------------------+--------------+----------+--------------------+\n",
       "|    us-west-1b    |  c4.8xlarge  | 0.487000 |     SUSE Linux     |\n",
       "|    us-west-1b    |  c4.8xlarge  | 0.387000 |     Linux/UNIX     |\n",
       "|    us-west-1b    |  c4.8xlarge  | 1.587300 |      Windows       |\n",
       "|    us-west-1b    |  c4.8xlarge  | 1.587200 |      Windows       |\n",
       "|    us-west-1b    |  c4.8xlarge  | 0.485900 |     SUSE Linux     |\n",
       "|    us-west-1b    |  c4.8xlarge  | 0.385900 |     Linux/UNIX     |\n",
       "|    us-west-1a    |  c4.8xlarge  | 1.648100 |      Windows       |\n",
       "|    us-west-1b    |  c4.8xlarge  | 1.587300 |      Windows       |\n",
       "|    us-west-1a    |  c4.8xlarge  | 0.538400 |     SUSE Linux     |\n",
       "|    us-west-1b    |  c4.8xlarge  | 0.487000 |     SUSE Linux     |\n",
       "+------------------+--------------+----------+--------------------+\n",
       "+--------------------------+\n",
       "|        Timestamp         |\n",
       "+--------------------------+\n",
       "| 2016-09-21T00:48:48.000Z |\n",
       "| 2016-09-21T00:48:48.000Z |\n",
       "| 2016-09-21T00:48:48.000Z |\n",
       "| 2016-09-21T00:48:20.000Z |\n",
       "| 2016-09-21T00:48:19.000Z |\n",
       "| 2016-09-21T00:48:19.000Z |\n",
       "| 2016-09-21T00:47:25.000Z |\n",
       "| 2016-09-21T00:47:25.000Z |\n",
       "| 2016-09-21T00:47:25.000Z |\n",
       "| 2016-09-21T00:47:25.000Z |\n",
       "+--------------------------+\n",
       "[10 rows x 5 columns]"
      ]
     },
     "execution_count": 54,
     "metadata": {},
     "output_type": "execute_result"
    }
   ],
   "source": [
    "c48xlarge.head()"
   ]
  },
  {
   "cell_type": "code",
   "execution_count": 55,
   "metadata": {
    "collapsed": false
   },
   "outputs": [
    {
     "data": {
      "text/plain": [
       "'0.256000'"
      ]
     },
     "execution_count": 55,
     "metadata": {},
     "output_type": "execute_result"
    }
   ],
   "source": [
    "min(c48xlarge['Price'])"
   ]
  },
  {
   "cell_type": "markdown",
   "metadata": {},
   "source": [
    "Yikes, need to up that hashrate!"
   ]
  },
  {
   "cell_type": "code",
   "execution_count": 56,
   "metadata": {
    "collapsed": false
   },
   "outputs": [
    {
     "name": "stdout",
     "output_type": "stream",
     "text": [
      "Canvas is accessible via web browser at the URL: http://localhost:52382/index.html\n",
      "Opening Canvas in default web browser.\n"
     ]
    }
   ],
   "source": [
    "c48xlarge.show()"
   ]
  },
  {
   "cell_type": "code",
   "execution_count": 58,
   "metadata": {
    "collapsed": false
   },
   "outputs": [],
   "source": [
    "sf.save('data/us-west-1-spot-clean.json', format='json')\n",
    "sf.save('data/us-west-1-spot-clean.csv', format='csv')"
   ]
  },
  {
   "cell_type": "code",
   "execution_count": null,
   "metadata": {
    "collapsed": true
   },
   "outputs": [],
   "source": []
  },
  {
   "cell_type": "code",
   "execution_count": null,
   "metadata": {
    "collapsed": true
   },
   "outputs": [],
   "source": []
  }
 ],
 "metadata": {
  "kernelspec": {
   "display_name": "Python 2",
   "language": "python",
   "name": "python2"
  },
  "language_info": {
   "codemirror_mode": {
    "name": "ipython",
    "version": 2
   },
   "file_extension": ".py",
   "mimetype": "text/x-python",
   "name": "python",
   "nbconvert_exporter": "python",
   "pygments_lexer": "ipython2",
   "version": "2.7.12"
  }
 },
 "nbformat": 4,
 "nbformat_minor": 0
}
